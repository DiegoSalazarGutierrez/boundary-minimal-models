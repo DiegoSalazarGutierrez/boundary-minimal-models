{
 "cells": [
  {
   "cell_type": "code",
   "execution_count": 1,
   "id": "c92f9f4b-af6e-45a7-ac0f-3c89154b7a37",
   "metadata": {
    "tags": []
   },
   "outputs": [],
   "source": [
    "var('t q')\n",
    "\n",
    "def L_partition_vector2(partition, vector):\n",
    "    for i in range(len(partition)):\n",
    "        vector = d[-partition[len(partition) - i - 1]]*vector\n",
    "    return vector\n",
    "\n",
    "def my_coefficient(partition, vector):\n",
    "    return vector.monomial_coefficients().get(tuple(-k for k in partition), 0)\n",
    "\n",
    "def series_t_q(list_of_list_of_partition):\n",
    "    series = 0\n",
    "    for i in range(len(list_of_list_of_partition)):\n",
    "        series_t = 0\n",
    "        for j in range(len(list_of_list_of_partition[i])):\n",
    "            series_t = series_t + t^len(list_of_list_of_partition[i][j])\n",
    "        series = series + series_t*q^i\n",
    "    return series\n",
    "\n",
    "def partition_ends(partition, tail, is_greater):\n",
    "    if len(partition) < len(tail) - 1:\n",
    "        return False\n",
    "    partition2 = partition[len(partition) - len(tail) + 1: len(partition)]\n",
    "    if partition2 != tail[1:]:\n",
    "        return False\n",
    "    if is_greater:\n",
    "        if partition == partition2:\n",
    "            return True\n",
    "        if partition[len(partition) - len(tail)] > tail[0]:\n",
    "            return True\n",
    "    else:\n",
    "        if partition == partition2:\n",
    "            return False\n",
    "        if partition[len(partition) - len(tail)] == tail[0]:\n",
    "            return True\n",
    "    return False\n",
    "\n",
    "def list_of_list_of_partition_ends(list_of_list_of_partition, tail, is_greater):\n",
    "    return [[partition\n",
    "             for partition in list_of_partition if partition_ends(partition, tail, is_greater)]\n",
    "            for list_of_partition in list_of_list_of_partition]\n",
    "\n",
    "def my_order(partition):\n",
    "    polynomial = Partition(partition).to_exp(sum(partition))\n",
    "    polynomial = [-k for k in polynomial]\n",
    "    polynomial.reverse()\n",
    "    return ((len(partition), polynomial)) \n",
    "\n",
    "def ordered_partitions(N):\n",
    "    if N <= 0:\n",
    "        return [[]]\n",
    "    list_of_partition = list(Partitions(N))\n",
    "    list_of_partition.sort(key = my_order, reverse = True)\n",
    "    return list_of_partition\n",
    "\n",
    "def find_singular_vector_at_weight(weight):\n",
    "    list_of_partition = ordered_partitions(weight)\n",
    "    list_of_partition.reverse()\n",
    "    list_of_partition2 = ordered_partitions(weight - 1)\n",
    "    list_of_partition2.reverse() \n",
    "    list_of_partition3 = ordered_partitions(weight - 2)\n",
    "    list_of_partition3.reverse()\n",
    "    matrix_1 = matrix({(i, j): my_coefficient(list_of_partition2[i], d[1]*L_partition_vector2(list_of_partition[j], v)) for j in range(len(list_of_partition)) for i in range(len(list_of_partition2))}, sparse = False)\n",
    "    matrix_2 = matrix({(i, j): my_coefficient(list_of_partition3[i], d[2]*L_partition_vector2(list_of_partition[j], v)) for j in range(len(list_of_partition)) for i in range(len(list_of_partition3))}, sparse = False)\n",
    "    matrix_1 = matrix_1.stack(matrix_2)\n",
    "    matrix_1 = matrix_1.rref()\n",
    "    vector = [-matrix_1[k, len(list_of_partition)-1] for k in range(len(list_of_partition)-1)]\n",
    "    vector_list = list(reversed(vector + [1]))\n",
    "    denominators = [value.denominator() for value in vector_list]\n",
    "    common_denominator = LCM(denominators)\n",
    "    vector_list = [value*common_denominator for value in vector_list]\n",
    "    list_of_partition.reverse()\n",
    "    vector2 = {tuple(list_of_partition[i]): vector_list[i] for i in range(len(list_of_partition))}\n",
    "    return vector2\n",
    "\n",
    "def find_singular_vectors():\n",
    "    return (find_singular_vector_at_weight(m*n), find_singular_vector_at_weight((pp - m)*(qq - n)))\n",
    "\n",
    "def vector_sum(vector1, vector2):\n",
    "    return {partition: vector1.get(partition, 0) + vector2.get(partition, 0)\n",
    "            for partition in set(vector1)|set(vector2)}\n",
    "\n",
    "def vector_simplify0(partition):\n",
    "    for i in range(len(partition) - 1):\n",
    "        if partition[i] < partition[i + 1]:\n",
    "            return {partition[0: i] + (partition[i] + partition[i + 1],)\n",
    "                    + partition[i + 2: len(partition)]: partition[i + 1] - partition[i],\n",
    "                    partition[0: i] + (partition[i + 1],) + (partition[i],)\n",
    "                    + partition[i + 2: len(partition)]: 1}\n",
    "    return {partition: 1}\n",
    "\n",
    "def vector_simplify(vector):\n",
    "    vector2 = {}\n",
    "    for partition in set(vector):\n",
    "        vector3 = vector_simplify0(partition)\n",
    "        vector2 = vector_sum(vector2, {partition2: vector3[partition2]*vector[partition]\n",
    "                                       for partition2 in set(vector3)})\n",
    "    if vector2 == vector:\n",
    "        return vector2\n",
    "    return vector_simplify(vector2)\n",
    "\n",
    "def L_partition_vector(partition, vector):\n",
    "    return vector_simplify(\n",
    "        {partition + partition2: vector[partition2] for partition2 in set(vector)})\n",
    "\n",
    "def matrix_UVir_m1_m2(N):\n",
    "    singular_vectors = find_singular_vectors()\n",
    "    m1 = singular_vectors[0]\n",
    "    m2 = singular_vectors[1]\n",
    "    list_of_partition = ordered_partitions(N)\n",
    "    list_of_partition2 = ordered_partitions(N - m*n)\n",
    "    list_of_partition3 = ordered_partitions(N - (pp - m)*(qq - n))\n",
    "    list_of_vector_m1 = [L_partition_vector(tuple(list_of_partition2[i]), m1)\n",
    "                         for i in range(len(list_of_partition2))]\n",
    "    list_of_vector_m2 = [L_partition_vector(tuple(list_of_partition3[i]), m2)\n",
    "                         for i in range(len(list_of_partition3))]\n",
    "    matrix_m1 = matrix({(i, j): list_of_vector_m1[i].get(tuple(list_of_partition[j]), 0)\n",
    "                        for j in range(len(list_of_partition))\n",
    "                        for i in range(len(list_of_partition2))}, sparse = False)\n",
    "    matrix_m2 = matrix({(i, j): list_of_vector_m2[i].get(tuple(list_of_partition[j]), 0)\n",
    "                        for j in range(len(list_of_partition))\n",
    "                        for i in range(len(list_of_partition3))}, sparse = False)\n",
    "    matrix_m1 = matrix_m1.stack(matrix_m2)\n",
    "    matrix_m1 = matrix_m1.rref()\n",
    "    return matrix_m1\n",
    "\n",
    "def pivots_up_to(N):\n",
    "    list_of_list_of_partition = []\n",
    "    for i in range(N + 1):\n",
    "        list_of_partition = ordered_partitions(i)\n",
    "        list_of_list_of_partition.append(\n",
    "            [list_of_partition[j] for j in matrix_UVir_m1_m2(i).pivots()])\n",
    "    return list_of_list_of_partition\n",
    "\n",
    "def basis_up_to(N):\n",
    "    list_of_list_of_partition = []\n",
    "    pivots = pivots_up_to(N)\n",
    "    for i in range(N + 1):\n",
    "        list_of_partition = ordered_partitions(i)\n",
    "        list_of_list_of_partition.append(\n",
    "            [partition for partition in list_of_partition if partition not in pivots[i]])\n",
    "    return list_of_list_of_partition\n",
    "\n",
    "def is_subpartition(partition, partition2):\n",
    "    if len(partition) < len(partition2):\n",
    "        return False\n",
    "    for i in range(len(partition) - len(partition2) + 1):\n",
    "        if partition[i: i + len(partition2)] == partition2:\n",
    "            return True\n",
    "    return False\n",
    "\n",
    "def partition_contains_any_of_list(partition, list_of_partition):\n",
    "    for partition2 in list_of_partition:\n",
    "        if is_subpartition(partition, partition2):\n",
    "            return True\n",
    "    return False\n",
    "\n",
    "def partition_contains_any_of_R(partition, s, list_of_partition):\n",
    "    if partition == []:\n",
    "        return False\n",
    "    if partition_contains_any_of_list(partition, list_of_partition):\n",
    "        return True\n",
    "    if len(partition) < s:\n",
    "        return False\n",
    "    for i in range(len(partition) - s + 1):\n",
    "        if partition[i] - partition[i + s - 1] < 2:\n",
    "            return True\n",
    "    return False\n",
    "\n",
    "def basis_up_tov2(N, s, list_of_partition):\n",
    "    list_of_list_of_partition = []\n",
    "    for i in range(N + 1):\n",
    "        list_of_partition2 = ordered_partitions(i)\n",
    "        list_of_list_of_partition.append(\n",
    "            [partition for partition in list_of_partition2\n",
    "             if not partition_contains_any_of_R(partition, s, list_of_partition)])\n",
    "    return list_of_list_of_partition"
   ]
  },
  {
   "cell_type": "code",
   "execution_count": 2,
   "id": "a3ebaaaa-cb32-4089-b721-0337421fc947",
   "metadata": {},
   "outputs": [
    {
     "data": {
      "text/plain": [
       "[[1, 1, 1, 1, 1, 1],\n",
       " [2, 1, 1, 1, 1],\n",
       " [2, 2, 1, 1],\n",
       " [3, 1, 1, 1],\n",
       " [2, 2, 2],\n",
       " [3, 2, 1],\n",
       " [4, 1, 1],\n",
       " [3, 3],\n",
       " [4, 2],\n",
       " [5, 1],\n",
       " [6]]"
      ]
     },
     "execution_count": 2,
     "metadata": {},
     "output_type": "execute_result"
    }
   ],
   "source": [
    "ordered_partitions(6)"
   ]
  },
  {
   "cell_type": "code",
   "execution_count": 3,
   "id": "ce4a5cc4-1041-46b3-aa1f-7de6e290a3f1",
   "metadata": {},
   "outputs": [],
   "source": [
    "Vir = lie_algebras.VirasoroAlgebra(QQ)\n",
    "pp = 2\n",
    "ss = 5\n",
    "m = 1\n",
    "n = 4\n",
    "NN = 20\n",
    "qq = 2*ss + 1\n",
    "c = 1 - 6*(pp - qq)^2/(pp*qq)\n",
    "h = ((n*pp - m*qq)^2 - (pp - qq)^2)/(4*pp*qq)\n",
    "M = Vir.verma_module(c, h)\n",
    "d = Vir.basis()\n",
    "v = M.highest_weight_vector()"
   ]
  },
  {
   "cell_type": "code",
   "execution_count": 4,
   "id": "acfe130d-96ed-4224-9124-3b92ccd7d93c",
   "metadata": {},
   "outputs": [
    {
     "data": {
      "text/plain": [
       "(-232/11, -9/11)"
      ]
     },
     "execution_count": 4,
     "metadata": {},
     "output_type": "execute_result"
    }
   ],
   "source": [
    "(c, h)"
   ]
  },
  {
   "cell_type": "code",
   "execution_count": 5,
   "id": "e6744c7f-0090-44a3-b1c3-478beb8d2c34",
   "metadata": {},
   "outputs": [
    {
     "name": "stdout",
     "output_type": "stream",
     "text": [
      "CPU times: user 1min 42s, sys: 143 ms, total: 1min 42s\n",
      "Wall time: 1min 50s\n"
     ]
    },
    {
     "data": {
      "text/plain": [
       "True"
      ]
     },
     "execution_count": 5,
     "metadata": {},
     "output_type": "execute_result"
    }
   ],
   "source": [
    "%time basis_up_to(NN) == basis_up_tov2(NN, ss, [[1, 1, 1, 1]])"
   ]
  },
  {
   "cell_type": "code",
   "execution_count": 6,
   "id": "71ba08d8-38e1-4e7e-a9d1-4168c3869f2e",
   "metadata": {},
   "outputs": [
    {
     "name": "stdout",
     "output_type": "stream",
     "text": [
      "CPU times: user 82.3 ms, sys: 9.23 ms, total: 91.6 ms\n",
      "Wall time: 99.2 ms\n"
     ]
    }
   ],
   "source": [
    "%time w = basis_up_tov2(25, ss, [[1, 1, 1, 1]])"
   ]
  },
  {
   "cell_type": "code",
   "execution_count": 7,
   "id": "4c730090-4aa7-4adc-85f4-9d95b5608dcd",
   "metadata": {},
   "outputs": [
    {
     "data": {
      "text/plain": [
       "(7*t^9 + 56*t^8 + 147*t^7 + 208*t^6 + 190*t^5 + 120*t^4 + 52*t^3 + 12*t^2 + t)*q^25 + (3*t^9 + 39*t^8 + 112*t^7 + 173*t^6 + 162*t^5 + 108*t^4 + 48*t^3 + 12*t^2 + t)*q^24 + (t^9 + 25*t^8 + 85*t^7 + 139*t^6 + 139*t^5 + 94*t^4 + 44*t^3 + 11*t^2 + t)*q^23 + (16*t^8 + 62*t^7 + 113*t^6 + 117*t^5 + 84*t^4 + 40*t^3 + 11*t^2 + t)*q^22 + (9*t^8 + 45*t^7 + 89*t^6 + 99*t^5 + 72*t^4 + 37*t^3 + 10*t^2 + t)*q^21 + (5*t^8 + 31*t^7 + 70*t^6 + 82*t^5 + 64*t^4 + 33*t^3 + 10*t^2 + t)*q^20 + (2*t^8 + 21*t^7 + 53*t^6 + 68*t^5 + 54*t^4 + 30*t^3 + 9*t^2 + t)*q^19 + (t^8 + 13*t^7 + 41*t^6 + 55*t^5 + 47*t^4 + 27*t^3 + 9*t^2 + t)*q^18 + (8*t^7 + 29*t^6 + 45*t^5 + 39*t^4 + 24*t^3 + 8*t^2 + t)*q^17 + (4*t^7 + 21*t^6 + 35*t^5 + 34*t^4 + 21*t^3 + 8*t^2 + t)*q^16 + (2*t^7 + 14*t^6 + 28*t^5 + 27*t^4 + 19*t^3 + 7*t^2 + t)*q^15 + (t^7 + 9*t^6 + 21*t^5 + 23*t^4 + 16*t^3 + 7*t^2 + t)*q^14 + (5*t^6 + 16*t^5 + 18*t^4 + 14*t^3 + 6*t^2 + t)*q^13 + (3*t^6 + 11*t^5 + 15*t^4 + 12*t^3 + 6*t^2 + t)*q^12 + (t^6 + 8*t^5 + 11*t^4 + 10*t^3 + 5*t^2 + t)*q^11 + (5*t^5 + 9*t^4 + 8*t^3 + 5*t^2 + t)*q^10 + (3*t^5 + 6*t^4 + 7*t^3 + 4*t^2 + t)*q^9 + (t^5 + 5*t^4 + 5*t^3 + 4*t^2 + t)*q^8 + (3*t^4 + 4*t^3 + 3*t^2 + t)*q^7 + (2*t^4 + 3*t^3 + 3*t^2 + t)*q^6 + (t^4 + 2*t^3 + 2*t^2 + t)*q^5 + (t^3 + 2*t^2 + t)*q^4 + (t^3 + t^2 + t)*q^3 + (t^2 + t)*q^2 + q*t + 1"
      ]
     },
     "execution_count": 7,
     "metadata": {},
     "output_type": "execute_result"
    }
   ],
   "source": [
    "series_t_q(w)"
   ]
  },
  {
   "cell_type": "code",
   "execution_count": 8,
   "id": "2a06040a-a11b-4a48-a65f-298500f205cd",
   "metadata": {},
   "outputs": [
    {
     "data": {
      "text/plain": [
       "(t^8 + 18*t^7 + 58*t^6 + 83*t^5 + 72*t^4 + 40*t^3 + 11*t^2 + t)*q^25 + (t^8 + 12*t^7 + 46*t^6 + 69*t^5 + 64*t^4 + 37*t^3 + 11*t^2 + t)*q^24 + (7*t^7 + 33*t^6 + 56*t^5 + 54*t^4 + 33*t^3 + 10*t^2 + t)*q^23 + (4*t^7 + 25*t^6 + 46*t^5 + 47*t^4 + 30*t^3 + 10*t^2 + t)*q^22 + (2*t^7 + 17*t^6 + 36*t^5 + 39*t^4 + 27*t^3 + 9*t^2 + t)*q^21 + (t^7 + 12*t^6 + 29*t^5 + 34*t^4 + 24*t^3 + 9*t^2 + t)*q^20 + (7*t^6 + 22*t^5 + 27*t^4 + 21*t^3 + 8*t^2 + t)*q^19 + (5*t^6 + 17*t^5 + 23*t^4 + 19*t^3 + 8*t^2 + t)*q^18 + (2*t^6 + 12*t^5 + 18*t^4 + 16*t^3 + 7*t^2 + t)*q^17 + (t^6 + 9*t^5 + 15*t^4 + 14*t^3 + 7*t^2 + t)*q^16 + (6*t^5 + 11*t^4 + 12*t^3 + 6*t^2 + t)*q^15 + (4*t^5 + 9*t^4 + 10*t^3 + 6*t^2 + t)*q^14 + (2*t^5 + 6*t^4 + 8*t^3 + 5*t^2 + t)*q^13 + (t^5 + 5*t^4 + 7*t^3 + 5*t^2 + t)*q^12 + (3*t^4 + 5*t^3 + 4*t^2 + t)*q^11 + (2*t^4 + 4*t^3 + 4*t^2 + t)*q^10 + (t^4 + 3*t^3 + 3*t^2 + t)*q^9 + (t^4 + 2*t^3 + 3*t^2 + t)*q^8 + (t^3 + 2*t^2 + t)*q^7 + (t^3 + 2*t^2 + t)*q^6 + (t^2 + t)*q^5 + (t^2 + t)*q^4 + q^3*t + q^2*t + 1"
      ]
     },
     "execution_count": 8,
     "metadata": {},
     "output_type": "execute_result"
    }
   ],
   "source": [
    "series_t_q(list_of_list_of_partition_ends(w, [1], True))"
   ]
  },
  {
   "cell_type": "code",
   "execution_count": 9,
   "id": "a9c81ba8-f7e9-48df-829d-dcc34da8142b",
   "metadata": {},
   "outputs": [
    {
     "data": {
      "text/plain": [
       "(8*t^8 + 41*t^7 + 68*t^6 + 64*t^5 + 37*t^4 + 11*t^3 + t^2)*q^25 + (4*t^8 + 29*t^7 + 55*t^6 + 54*t^5 + 33*t^4 + 10*t^3 + t^2)*q^24 + (2*t^8 + 21*t^7 + 45*t^6 + 47*t^5 + 30*t^4 + 10*t^3 + t^2)*q^23 + (t^8 + 14*t^7 + 35*t^6 + 39*t^5 + 27*t^4 + 9*t^3 + t^2)*q^22 + (9*t^7 + 28*t^6 + 34*t^5 + 24*t^4 + 9*t^3 + t^2)*q^21 + (5*t^7 + 21*t^6 + 27*t^5 + 21*t^4 + 8*t^3 + t^2)*q^20 + (3*t^7 + 16*t^6 + 23*t^5 + 19*t^4 + 8*t^3 + t^2)*q^19 + (t^7 + 11*t^6 + 18*t^5 + 16*t^4 + 7*t^3 + t^2)*q^18 + (8*t^6 + 15*t^5 + 14*t^4 + 7*t^3 + t^2)*q^17 + (5*t^6 + 11*t^5 + 12*t^4 + 6*t^3 + t^2)*q^16 + (3*t^6 + 9*t^5 + 10*t^4 + 6*t^3 + t^2)*q^15 + (t^6 + 6*t^5 + 8*t^4 + 5*t^3 + t^2)*q^14 + (5*t^5 + 7*t^4 + 5*t^3 + t^2)*q^13 + (3*t^5 + 5*t^4 + 4*t^3 + t^2)*q^12 + (2*t^5 + 4*t^4 + 4*t^3 + t^2)*q^11 + (t^5 + 3*t^4 + 3*t^3 + t^2)*q^10 + (2*t^4 + 3*t^3 + t^2)*q^9 + (t^4 + 2*t^3 + t^2)*q^8 + (t^4 + 2*t^3 + t^2)*q^7 + (t^3 + t^2)*q^6 + (t^3 + t^2)*q^5 + q^4*t^2 + q^3*t^2 + q*t"
      ]
     },
     "execution_count": 9,
     "metadata": {},
     "output_type": "execute_result"
    }
   ],
   "source": [
    "series_t_q(list_of_list_of_partition_ends(w, [1, 1], True))"
   ]
  },
  {
   "cell_type": "code",
   "execution_count": 10,
   "id": "a731f337-962f-465d-a24e-97e196895887",
   "metadata": {},
   "outputs": [
    {
     "data": {
      "text/plain": [
       "(t^9 + 20*t^8 + 49*t^7 + 53*t^6 + 33*t^5 + 10*t^4 + t^3)*q^25 + (14*t^8 + 39*t^7 + 46*t^6 + 30*t^5 + 10*t^4 + t^3)*q^24 + (8*t^8 + 30*t^7 + 38*t^6 + 27*t^5 + 9*t^4 + t^3)*q^23 + (5*t^8 + 23*t^7 + 33*t^6 + 24*t^5 + 9*t^4 + t^3)*q^22 + (2*t^8 + 17*t^7 + 26*t^6 + 21*t^5 + 8*t^4 + t^3)*q^21 + (t^8 + 12*t^7 + 22*t^6 + 19*t^5 + 8*t^4 + t^3)*q^20 + (8*t^7 + 17*t^6 + 16*t^5 + 7*t^4 + t^3)*q^19 + (5*t^7 + 14*t^6 + 14*t^5 + 7*t^4 + t^3)*q^18 + (3*t^7 + 10*t^6 + 12*t^5 + 6*t^4 + t^3)*q^17 + (t^7 + 8*t^6 + 10*t^5 + 6*t^4 + t^3)*q^16 + (5*t^6 + 8*t^5 + 5*t^4 + t^3)*q^15 + (4*t^6 + 7*t^5 + 5*t^4 + t^3)*q^14 + (2*t^6 + 5*t^5 + 4*t^4 + t^3)*q^13 + (t^6 + 4*t^5 + 4*t^4 + t^3)*q^12 + (3*t^5 + 3*t^4 + t^3)*q^11 + (2*t^5 + 3*t^4 + t^3)*q^10 + (t^5 + 2*t^4 + t^3)*q^9 + (2*t^4 + t^3)*q^8 + (t^4 + t^3)*q^7 + q^5*t^3 + (t^4 + t^3)*q^6 + q^4*t^3 + q^2*t^2"
      ]
     },
     "execution_count": 10,
     "metadata": {},
     "output_type": "execute_result"
    }
   ],
   "source": [
    "series_t_q(list_of_list_of_partition_ends(w, [1, 1, 1], True))"
   ]
  },
  {
   "cell_type": "code",
   "execution_count": 11,
   "id": "0b3a27cd-eb25-4890-b6c1-545de8a267ed",
   "metadata": {},
   "outputs": [
    {
     "data": {
      "text/plain": [
       "(6*t^9 + 27*t^8 + 39*t^7 + 29*t^6 + 10*t^5 + t^4)*q^25 + (3*t^9 + 20*t^8 + 32*t^7 + 26*t^6 + 9*t^5 + t^4)*q^24 + (t^9 + 15*t^8 + 27*t^7 + 23*t^6 + 9*t^5 + t^4)*q^23 + (10*t^8 + 21*t^7 + 20*t^6 + 8*t^5 + t^4)*q^22 + (7*t^8 + 17*t^7 + 18*t^6 + 8*t^5 + t^4)*q^21 + (4*t^8 + 13*t^7 + 15*t^6 + 7*t^5 + t^4)*q^20 + (2*t^8 + 10*t^7 + 13*t^6 + 7*t^5 + t^4)*q^19 + (t^8 + 7*t^7 + 11*t^6 + 6*t^5 + t^4)*q^18 + (5*t^7 + 9*t^6 + 6*t^5 + t^4)*q^17 + (3*t^7 + 7*t^6 + 5*t^5 + t^4)*q^16 + (2*t^7 + 6*t^6 + 5*t^5 + t^4)*q^15 + (t^7 + 4*t^6 + 4*t^5 + t^4)*q^14 + (3*t^6 + 4*t^5 + t^4)*q^13 + (2*t^6 + 3*t^5 + t^4)*q^12 + (t^6 + 3*t^5 + t^4)*q^11 + (2*t^5 + t^4)*q^10 + q^7*t^4 + (2*t^5 + t^4)*q^9 + q^6*t^4 + (t^5 + t^4)*q^8 + q^5*t^4 + q^3*t^3"
      ]
     },
     "execution_count": 11,
     "metadata": {},
     "output_type": "execute_result"
    }
   ],
   "source": [
    "series_t_q(list_of_list_of_partition_ends(w, [1, 1, 1, 1], True))"
   ]
  }
 ],
 "metadata": {
  "kernelspec": {
   "display_name": "SageMath 9.5",
   "language": "sage",
   "name": "sagemath"
  },
  "language_info": {
   "codemirror_mode": {
    "name": "ipython",
    "version": 3
   },
   "file_extension": ".py",
   "mimetype": "text/x-python",
   "name": "python",
   "nbconvert_exporter": "python",
   "pygments_lexer": "ipython3",
   "version": "3.10.12"
  }
 },
 "nbformat": 4,
 "nbformat_minor": 5
}
