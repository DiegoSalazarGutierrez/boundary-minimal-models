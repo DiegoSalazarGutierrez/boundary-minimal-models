{
 "cells": [
  {
   "cell_type": "code",
   "execution_count": 1,
   "id": "c92f9f4b-af6e-45a7-ac0f-3c89154b7a37",
   "metadata": {
    "tags": []
   },
   "outputs": [],
   "source": [
    "var('t q')\n",
    "\n",
    "def L_partition_vector2(partition, vector):\n",
    "    for i in range(len(partition)):\n",
    "        vector = d[-partition[len(partition) - i - 1]]*vector\n",
    "    return vector\n",
    "\n",
    "def my_coefficient(partition, vector):\n",
    "    return vector.monomial_coefficients().get(tuple(-k for k in partition), 0)\n",
    "\n",
    "def series_t_q(list_of_list_of_partition):\n",
    "    series = 0\n",
    "    for i in range(len(list_of_list_of_partition)):\n",
    "        series_t = 0\n",
    "        for j in range(len(list_of_list_of_partition[i])):\n",
    "            series_t = series_t + t^len(list_of_list_of_partition[i][j])\n",
    "        series = series + series_t*q^i\n",
    "    return series\n",
    "\n",
    "def partition_ends(partition, tail, is_greater):\n",
    "    if len(partition) < len(tail) - 1:\n",
    "        return False\n",
    "    partition2 = partition[len(partition) - len(tail) + 1: len(partition)]\n",
    "    if partition2 != tail[1:]:\n",
    "        return False\n",
    "    if is_greater:\n",
    "        if partition == partition2:\n",
    "            return True\n",
    "        if partition[len(partition) - len(tail)] > tail[0]:\n",
    "            return True\n",
    "    else:\n",
    "        if partition == partition2:\n",
    "            return False\n",
    "        if partition[len(partition) - len(tail)] == tail[0]:\n",
    "            return True\n",
    "    return False\n",
    "\n",
    "def list_of_list_of_partition_ends(list_of_list_of_partition, tail, is_greater):\n",
    "    return [[partition\n",
    "             for partition in list_of_partition if partition_ends(partition, tail, is_greater)]\n",
    "            for list_of_partition in list_of_list_of_partition]\n",
    "\n",
    "def my_order(partition):\n",
    "    polynomial = Partition(partition).to_exp(sum(partition))\n",
    "    polynomial = [-k for k in polynomial]\n",
    "    polynomial.reverse()\n",
    "    return ((len(partition), polynomial)) \n",
    "\n",
    "def ordered_partitions(N):\n",
    "    if N <= 0:\n",
    "        return [[]]\n",
    "    list_of_partition = list(Partitions(N))\n",
    "    list_of_partition.sort(key = my_order, reverse = True)\n",
    "    return list_of_partition\n",
    "\n",
    "def find_singular_vector_at_weight(weight):\n",
    "    list_of_partition = ordered_partitions(weight)\n",
    "    list_of_partition.reverse()\n",
    "    list_of_partition2 = ordered_partitions(weight - 1)\n",
    "    list_of_partition2.reverse() \n",
    "    list_of_partition3 = ordered_partitions(weight - 2)\n",
    "    list_of_partition3.reverse()\n",
    "    matrix_1 = matrix({(i, j): my_coefficient(list_of_partition2[i], d[1]*L_partition_vector2(list_of_partition[j], v)) for j in range(len(list_of_partition)) for i in range(len(list_of_partition2))}, sparse = False)\n",
    "    matrix_2 = matrix({(i, j): my_coefficient(list_of_partition3[i], d[2]*L_partition_vector2(list_of_partition[j], v)) for j in range(len(list_of_partition)) for i in range(len(list_of_partition3))}, sparse = False)\n",
    "    matrix_1 = matrix_1.stack(matrix_2)\n",
    "    matrix_1 = matrix_1.rref()\n",
    "    vector = [-matrix_1[k, len(list_of_partition)-1] for k in range(len(list_of_partition)-1)]\n",
    "    vector_list = list(reversed(vector + [1]))\n",
    "    denominators = [value.denominator() for value in vector_list]\n",
    "    common_denominator = LCM(denominators)\n",
    "    vector_list = [value*common_denominator for value in vector_list]\n",
    "    list_of_partition.reverse()\n",
    "    vector2 = {tuple(list_of_partition[i]): vector_list[i] for i in range(len(list_of_partition))}\n",
    "    return vector2\n",
    "\n",
    "def find_singular_vectors():\n",
    "    return (find_singular_vector_at_weight(m*n), find_singular_vector_at_weight((pp - m)*(qq - n)))\n",
    "\n",
    "def vector_sum(vector1, vector2):\n",
    "    return {partition: vector1.get(partition, 0) + vector2.get(partition, 0)\n",
    "            for partition in set(vector1)|set(vector2)}\n",
    "\n",
    "def vector_simplify0(partition):\n",
    "    for i in range(len(partition) - 1):\n",
    "        if partition[i] < partition[i + 1]:\n",
    "            return {partition[0: i] + (partition[i] + partition[i + 1],)\n",
    "                    + partition[i + 2: len(partition)]: partition[i + 1] - partition[i],\n",
    "                    partition[0: i] + (partition[i + 1],) + (partition[i],)\n",
    "                    + partition[i + 2: len(partition)]: 1}\n",
    "    return {partition: 1}\n",
    "\n",
    "def vector_simplify(vector):\n",
    "    vector2 = {}\n",
    "    for partition in set(vector):\n",
    "        vector3 = vector_simplify0(partition)\n",
    "        vector2 = vector_sum(vector2, {partition2: vector3[partition2]*vector[partition]\n",
    "                                       for partition2 in set(vector3)})\n",
    "    if vector2 == vector:\n",
    "        return vector2\n",
    "    return vector_simplify(vector2)\n",
    "\n",
    "def L_partition_vector(partition, vector):\n",
    "    return vector_simplify(\n",
    "        {partition + partition2: vector[partition2] for partition2 in set(vector)})\n",
    "\n",
    "def matrix_UVir_m1_m2(N):\n",
    "    singular_vectors = find_singular_vectors()\n",
    "    m1 = singular_vectors[0]\n",
    "    m2 = singular_vectors[1]\n",
    "    list_of_partition = ordered_partitions(N)\n",
    "    list_of_partition2 = ordered_partitions(N - m*n)\n",
    "    list_of_partition3 = ordered_partitions(N - (pp - m)*(qq - n))\n",
    "    list_of_vector_m1 = [L_partition_vector(tuple(list_of_partition2[i]), m1)\n",
    "                         for i in range(len(list_of_partition2))]\n",
    "    list_of_vector_m2 = [L_partition_vector(tuple(list_of_partition3[i]), m2)\n",
    "                         for i in range(len(list_of_partition3))]\n",
    "    matrix_m1 = matrix({(i, j): list_of_vector_m1[i].get(tuple(list_of_partition[j]), 0)\n",
    "                        for j in range(len(list_of_partition))\n",
    "                        for i in range(len(list_of_partition2))}, sparse = False)\n",
    "    matrix_m2 = matrix({(i, j): list_of_vector_m2[i].get(tuple(list_of_partition[j]), 0)\n",
    "                        for j in range(len(list_of_partition))\n",
    "                        for i in range(len(list_of_partition3))}, sparse = False)\n",
    "    matrix_m1 = matrix_m1.stack(matrix_m2)\n",
    "    matrix_m1 = matrix_m1.rref()\n",
    "    return matrix_m1\n",
    "\n",
    "def pivots_up_to(N):\n",
    "    list_of_list_of_partition = []\n",
    "    for i in range(N + 1):\n",
    "        list_of_partition = ordered_partitions(i)\n",
    "        list_of_list_of_partition.append(\n",
    "            [list_of_partition[j] for j in matrix_UVir_m1_m2(i).pivots()])\n",
    "    return list_of_list_of_partition\n",
    "\n",
    "def basis_up_to(N):\n",
    "    list_of_list_of_partition = []\n",
    "    pivots = pivots_up_to(N)\n",
    "    for i in range(N + 1):\n",
    "        list_of_partition = ordered_partitions(i)\n",
    "        list_of_list_of_partition.append(\n",
    "            [partition for partition in list_of_partition if partition not in pivots[i]])\n",
    "    return list_of_list_of_partition\n",
    "\n",
    "def is_subpartition(partition, partition2):\n",
    "    if len(partition) < len(partition2):\n",
    "        return False\n",
    "    for i in range(len(partition) - len(partition2) + 1):\n",
    "        if partition[i: i + len(partition2)] == partition2:\n",
    "            return True\n",
    "    return False\n",
    "\n",
    "def partition_contains_any_of_list(partition, list_of_partition):\n",
    "    for partition2 in list_of_partition:\n",
    "        if is_subpartition(partition, partition2):\n",
    "            return True\n",
    "    return False\n",
    "\n",
    "def partition_contains_any_of_R(partition, s, list_of_partition):\n",
    "    if partition == []:\n",
    "        return False\n",
    "    if partition_contains_any_of_list(partition, list_of_partition):\n",
    "        return True\n",
    "    if len(partition) < s:\n",
    "        return False\n",
    "    for i in range(len(partition) - s + 1):\n",
    "        if partition[i] - partition[i + s - 1] < 2:\n",
    "            return True\n",
    "    return False\n",
    "\n",
    "def basis_up_tov2(N, s, list_of_partition):\n",
    "    list_of_list_of_partition = []\n",
    "    for i in range(N + 1):\n",
    "        list_of_partition2 = ordered_partitions(i)\n",
    "        list_of_list_of_partition.append(\n",
    "            [partition for partition in list_of_partition2\n",
    "             if not partition_contains_any_of_R(partition, s, list_of_partition)])\n",
    "    return list_of_list_of_partition"
   ]
  },
  {
   "cell_type": "code",
   "execution_count": 2,
   "id": "a3ebaaaa-cb32-4089-b721-0337421fc947",
   "metadata": {},
   "outputs": [
    {
     "data": {
      "text/plain": [
       "[[1, 1, 1, 1, 1, 1],\n",
       " [2, 1, 1, 1, 1],\n",
       " [2, 2, 1, 1],\n",
       " [3, 1, 1, 1],\n",
       " [2, 2, 2],\n",
       " [3, 2, 1],\n",
       " [4, 1, 1],\n",
       " [3, 3],\n",
       " [4, 2],\n",
       " [5, 1],\n",
       " [6]]"
      ]
     },
     "execution_count": 2,
     "metadata": {},
     "output_type": "execute_result"
    }
   ],
   "source": [
    "ordered_partitions(6)"
   ]
  },
  {
   "cell_type": "code",
   "execution_count": 3,
   "id": "ce4a5cc4-1041-46b3-aa1f-7de6e290a3f1",
   "metadata": {},
   "outputs": [],
   "source": [
    "Vir = lie_algebras.VirasoroAlgebra(QQ)\n",
    "pp = 2\n",
    "ss = 3\n",
    "m = 1\n",
    "n = 3\n",
    "NN = 20\n",
    "qq = 2*ss + 1\n",
    "c = 1 - 6*(pp - qq)^2/(pp*qq)\n",
    "h = ((n*pp - m*qq)^2 - (pp - qq)^2)/(4*pp*qq)\n",
    "M = Vir.verma_module(c, h)\n",
    "d = Vir.basis()\n",
    "v = M.highest_weight_vector()"
   ]
  },
  {
   "cell_type": "code",
   "execution_count": 4,
   "id": "acfe130d-96ed-4224-9124-3b92ccd7d93c",
   "metadata": {},
   "outputs": [
    {
     "data": {
      "text/plain": [
       "(-68/7, -3/7)"
      ]
     },
     "execution_count": 4,
     "metadata": {},
     "output_type": "execute_result"
    }
   ],
   "source": [
    "(c, h)"
   ]
  },
  {
   "cell_type": "code",
   "execution_count": 5,
   "id": "a41fd69c-5bc7-42a1-94a7-c51e731255b0",
   "metadata": {},
   "outputs": [
    {
     "name": "stdout",
     "output_type": "stream",
     "text": [
      "CPU times: user 13.5 s, sys: 86.3 ms, total: 13.6 s\n",
      "Wall time: 14.7 s\n"
     ]
    },
    {
     "data": {
      "text/plain": [
       "True"
      ]
     },
     "execution_count": 5,
     "metadata": {},
     "output_type": "execute_result"
    }
   ],
   "source": [
    "%time basis_up_to(NN) == basis_up_tov2(NN, ss, [[1, 1, 1]])"
   ]
  },
  {
   "cell_type": "code",
   "execution_count": 6,
   "id": "e6744c7f-0090-44a3-b1c3-478beb8d2c34",
   "metadata": {},
   "outputs": [
    {
     "name": "stdout",
     "output_type": "stream",
     "text": [
      "CPU times: user 3.4 s, sys: 73.8 ms, total: 3.48 s\n",
      "Wall time: 3.77 s\n"
     ]
    }
   ],
   "source": [
    "%time w = basis_up_tov2(40, ss, [[1, 1, 1]])"
   ]
  },
  {
   "cell_type": "code",
   "execution_count": 7,
   "id": "4c730090-4aa7-4adc-85f4-9d95b5608dcd",
   "metadata": {},
   "outputs": [
    {
     "data": {
      "text/plain": [
       "(55*t^8 + 373*t^7 + 804*t^6 + 808*t^5 + 442*t^4 + 132*t^3 + 20*t^2 + t)*q^40 + (36*t^8 + 298*t^7 + 685*t^6 + 724*t^5 + 406*t^4 + 126*t^3 + 19*t^2 + t)*q^39 + (25*t^8 + 234*t^7 + 586*t^6 + 645*t^5 + 377*t^4 + 119*t^3 + 19*t^2 + t)*q^38 + (15*t^8 + 183*t^7 + 492*t^6 + 574*t^5 + 345*t^4 + 113*t^3 + 18*t^2 + t)*q^37 + (10*t^8 + 139*t^7 + 417*t^6 + 507*t^5 + 319*t^4 + 107*t^3 + 18*t^2 + t)*q^36 + (5*t^8 + 106*t^7 + 344*t^6 + 448*t^5 + 290*t^4 + 101*t^3 + 17*t^2 + t)*q^35 + (3*t^8 + 78*t^7 + 287*t^6 + 392*t^5 + 267*t^4 + 95*t^3 + 17*t^2 + t)*q^34 + (t^8 + 57*t^7 + 233*t^6 + 343*t^5 + 241*t^4 + 90*t^3 + 16*t^2 + t)*q^33 + (t^8 + 40*t^7 + 191*t^6 + 297*t^5 + 221*t^4 + 84*t^3 + 16*t^2 + t)*q^32 + (28*t^7 + 151*t^6 + 257*t^5 + 198*t^4 + 79*t^3 + 15*t^2 + t)*q^31 + (18*t^7 + 122*t^6 + 220*t^5 + 180*t^4 + 74*t^3 + 15*t^2 + t)*q^30 + (12*t^7 + 93*t^6 + 188*t^5 + 160*t^4 + 69*t^3 + 14*t^2 + t)*q^29 + (7*t^7 + 73*t^6 + 158*t^5 + 145*t^4 + 64*t^3 + 14*t^2 + t)*q^28 + (4*t^7 + 54*t^6 + 133*t^5 + 127*t^4 + 60*t^3 + 13*t^2 + t)*q^27 + (2*t^7 + 41*t^6 + 110*t^5 + 114*t^4 + 55*t^3 + 13*t^2 + t)*q^26 + (t^7 + 28*t^6 + 91*t^5 + 99*t^4 + 51*t^3 + 12*t^2 + t)*q^25 + (21*t^6 + 73*t^5 + 88*t^4 + 47*t^3 + 12*t^2 + t)*q^24 + (13*t^6 + 59*t^5 + 75*t^4 + 43*t^3 + 11*t^2 + t)*q^23 + (9*t^6 + 46*t^5 + 66*t^4 + 39*t^3 + 11*t^2 + t)*q^22 + (5*t^6 + 36*t^5 + 55*t^4 + 36*t^3 + 10*t^2 + t)*q^21 + (3*t^6 + 27*t^5 + 48*t^4 + 32*t^3 + 10*t^2 + t)*q^20 + (t^6 + 20*t^5 + 39*t^4 + 29*t^3 + 9*t^2 + t)*q^19 + (t^6 + 14*t^5 + 33*t^4 + 26*t^3 + 9*t^2 + t)*q^18 + (10*t^5 + 26*t^4 + 23*t^3 + 8*t^2 + t)*q^17 + (6*t^5 + 22*t^4 + 20*t^3 + 8*t^2 + t)*q^16 + (4*t^5 + 16*t^4 + 18*t^3 + 7*t^2 + t)*q^15 + (2*t^5 + 13*t^4 + 15*t^3 + 7*t^2 + t)*q^14 + (t^5 + 9*t^4 + 13*t^3 + 6*t^2 + t)*q^13 + (7*t^4 + 11*t^3 + 6*t^2 + t)*q^12 + (4*t^4 + 9*t^3 + 5*t^2 + t)*q^11 + (3*t^4 + 7*t^3 + 5*t^2 + t)*q^10 + (t^4 + 6*t^3 + 4*t^2 + t)*q^9 + (t^4 + 4*t^3 + 4*t^2 + t)*q^8 + (3*t^3 + 3*t^2 + t)*q^7 + (2*t^3 + 3*t^2 + t)*q^6 + (t^3 + 2*t^2 + t)*q^5 + (2*t^2 + t)*q^4 + (t^2 + t)*q^3 + (t^2 + t)*q^2 + q*t + 1"
      ]
     },
     "execution_count": 7,
     "metadata": {},
     "output_type": "execute_result"
    }
   ],
   "source": [
    "series_t_q(w)"
   ]
  },
  {
   "cell_type": "code",
   "execution_count": 8,
   "id": "2a06040a-a11b-4a48-a65f-298500f205cd",
   "metadata": {},
   "outputs": [
    {
     "data": {
      "text/plain": [
       "(t^8 + 57*t^7 + 287*t^6 + 448*t^5 + 319*t^4 + 113*t^3 + 19*t^2 + t)*q^40 + (40*t^7 + 233*t^6 + 392*t^5 + 290*t^4 + 107*t^3 + 18*t^2 + t)*q^39 + (28*t^7 + 191*t^6 + 343*t^5 + 267*t^4 + 101*t^3 + 18*t^2 + t)*q^38 + (18*t^7 + 151*t^6 + 297*t^5 + 241*t^4 + 95*t^3 + 17*t^2 + t)*q^37 + (12*t^7 + 122*t^6 + 257*t^5 + 221*t^4 + 90*t^3 + 17*t^2 + t)*q^36 + (7*t^7 + 93*t^6 + 220*t^5 + 198*t^4 + 84*t^3 + 16*t^2 + t)*q^35 + (4*t^7 + 73*t^6 + 188*t^5 + 180*t^4 + 79*t^3 + 16*t^2 + t)*q^34 + (2*t^7 + 54*t^6 + 158*t^5 + 160*t^4 + 74*t^3 + 15*t^2 + t)*q^33 + (t^7 + 41*t^6 + 133*t^5 + 145*t^4 + 69*t^3 + 15*t^2 + t)*q^32 + (28*t^6 + 110*t^5 + 127*t^4 + 64*t^3 + 14*t^2 + t)*q^31 + (21*t^6 + 91*t^5 + 114*t^4 + 60*t^3 + 14*t^2 + t)*q^30 + (13*t^6 + 73*t^5 + 99*t^4 + 55*t^3 + 13*t^2 + t)*q^29 + (9*t^6 + 59*t^5 + 88*t^4 + 51*t^3 + 13*t^2 + t)*q^28 + (5*t^6 + 46*t^5 + 75*t^4 + 47*t^3 + 12*t^2 + t)*q^27 + (3*t^6 + 36*t^5 + 66*t^4 + 43*t^3 + 12*t^2 + t)*q^26 + (t^6 + 27*t^5 + 55*t^4 + 39*t^3 + 11*t^2 + t)*q^25 + (t^6 + 20*t^5 + 48*t^4 + 36*t^3 + 11*t^2 + t)*q^24 + (14*t^5 + 39*t^4 + 32*t^3 + 10*t^2 + t)*q^23 + (10*t^5 + 33*t^4 + 29*t^3 + 10*t^2 + t)*q^22 + (6*t^5 + 26*t^4 + 26*t^3 + 9*t^2 + t)*q^21 + (4*t^5 + 22*t^4 + 23*t^3 + 9*t^2 + t)*q^20 + (2*t^5 + 16*t^4 + 20*t^3 + 8*t^2 + t)*q^19 + (t^5 + 13*t^4 + 18*t^3 + 8*t^2 + t)*q^18 + (9*t^4 + 15*t^3 + 7*t^2 + t)*q^17 + (7*t^4 + 13*t^3 + 7*t^2 + t)*q^16 + (4*t^4 + 11*t^3 + 6*t^2 + t)*q^15 + (3*t^4 + 9*t^3 + 6*t^2 + t)*q^14 + (t^4 + 7*t^3 + 5*t^2 + t)*q^13 + (t^4 + 6*t^3 + 5*t^2 + t)*q^12 + (4*t^3 + 4*t^2 + t)*q^11 + (3*t^3 + 4*t^2 + t)*q^10 + (2*t^3 + 3*t^2 + t)*q^9 + (t^3 + 3*t^2 + t)*q^8 + (2*t^2 + t)*q^7 + (2*t^2 + t)*q^6 + (t^2 + t)*q^5 + (t^2 + t)*q^4 + q^3*t + q^2*t + 1"
      ]
     },
     "execution_count": 8,
     "metadata": {},
     "output_type": "execute_result"
    }
   ],
   "source": [
    "series_t_q(list_of_list_of_partition_ends(w, [1], True))"
   ]
  },
  {
   "cell_type": "code",
   "execution_count": 9,
   "id": "a9c81ba8-f7e9-48df-829d-dcc34da8142b",
   "metadata": {},
   "outputs": [
    {
     "data": {
      "text/plain": [
       "(13*t^8 + 158*t^7 + 337*t^6 + 276*t^5 + 106*t^4 + 18*t^3 + t^2)*q^40 + (8*t^8 + 125*t^7 + 292*t^6 + 253*t^5 + 100*t^4 + 18*t^3 + t^2)*q^39 + (4*t^8 + 96*t^7 + 250*t^6 + 228*t^5 + 94*t^4 + 17*t^3 + t^2)*q^38 + (2*t^8 + 74*t^7 + 214*t^6 + 208*t^5 + 89*t^4 + 17*t^3 + t^2)*q^37 + (t^8 + 54*t^7 + 181*t^6 + 186*t^5 + 83*t^4 + 16*t^3 + t^2)*q^36 + (40*t^7 + 152*t^6 + 168*t^5 + 78*t^4 + 16*t^3 + t^2)*q^35 + (28*t^7 + 126*t^6 + 149*t^5 + 73*t^4 + 15*t^3 + t^2)*q^34 + (19*t^7 + 104*t^6 + 134*t^5 + 68*t^4 + 15*t^3 + t^2)*q^33 + (12*t^7 + 84*t^6 + 117*t^5 + 63*t^4 + 14*t^3 + t^2)*q^32 + (8*t^7 + 68*t^6 + 104*t^5 + 59*t^4 + 14*t^3 + t^2)*q^31 + (4*t^7 + 53*t^6 + 90*t^5 + 54*t^4 + 13*t^3 + t^2)*q^30 + (2*t^7 + 41*t^6 + 79*t^5 + 50*t^4 + 13*t^3 + t^2)*q^29 + (t^7 + 31*t^6 + 67*t^5 + 46*t^4 + 12*t^3 + t^2)*q^28 + (23*t^6 + 58*t^5 + 42*t^4 + 12*t^3 + t^2)*q^27 + (16*t^6 + 48*t^5 + 38*t^4 + 11*t^3 + t^2)*q^26 + (11*t^6 + 41*t^5 + 35*t^4 + 11*t^3 + t^2)*q^25 + (7*t^6 + 33*t^5 + 31*t^4 + 10*t^3 + t^2)*q^24 + (4*t^6 + 27*t^5 + 28*t^4 + 10*t^3 + t^2)*q^23 + (2*t^6 + 21*t^5 + 25*t^4 + 9*t^3 + t^2)*q^22 + (t^6 + 17*t^5 + 22*t^4 + 9*t^3 + t^2)*q^21 + (12*t^5 + 19*t^4 + 8*t^3 + t^2)*q^20 + (9*t^5 + 17*t^4 + 8*t^3 + t^2)*q^19 + (6*t^5 + 14*t^4 + 7*t^3 + t^2)*q^18 + (4*t^5 + 12*t^4 + 7*t^3 + t^2)*q^17 + (2*t^5 + 10*t^4 + 6*t^3 + t^2)*q^16 + (t^5 + 8*t^4 + 6*t^3 + t^2)*q^15 + (6*t^4 + 5*t^3 + t^2)*q^14 + (5*t^4 + 5*t^3 + t^2)*q^13 + (3*t^4 + 4*t^3 + t^2)*q^12 + (2*t^4 + 4*t^3 + t^2)*q^11 + (t^4 + 3*t^3 + t^2)*q^10 + (3*t^3 + t^2)*q^9 + (2*t^3 + t^2)*q^8 + (2*t^3 + t^2)*q^7 + (t^3 + t^2)*q^6 + q^5*t^2 + q^4*t^2 + q^3*t^2 + q*t"
      ]
     },
     "execution_count": 9,
     "metadata": {},
     "output_type": "execute_result"
    }
   ],
   "source": [
    "series_t_q(list_of_list_of_partition_ends(w, [1, 1], True))"
   ]
  },
  {
   "cell_type": "code",
   "execution_count": 10,
   "id": "82b52224-019d-4a71-927c-3155fd3b8d27",
   "metadata": {},
   "outputs": [
    {
     "data": {
      "text/plain": [
       "(41*t^8 + 158*t^7 + 180*t^6 + 84*t^5 + 17*t^4 + t^3)*q^40 + (28*t^8 + 133*t^7 + 160*t^6 + 79*t^5 + 16*t^4 + t^3)*q^39 + (21*t^8 + 110*t^7 + 145*t^6 + 74*t^5 + 16*t^4 + t^3)*q^38 + (13*t^8 + 91*t^7 + 127*t^6 + 69*t^5 + 15*t^4 + t^3)*q^37 + (9*t^8 + 73*t^7 + 114*t^6 + 64*t^5 + 15*t^4 + t^3)*q^36 + (5*t^8 + 59*t^7 + 99*t^6 + 60*t^5 + 14*t^4 + t^3)*q^35 + (3*t^8 + 46*t^7 + 88*t^6 + 55*t^5 + 14*t^4 + t^3)*q^34 + (t^8 + 36*t^7 + 75*t^6 + 51*t^5 + 13*t^4 + t^3)*q^33 + (t^8 + 27*t^7 + 66*t^6 + 47*t^5 + 13*t^4 + t^3)*q^32 + (20*t^7 + 55*t^6 + 43*t^5 + 12*t^4 + t^3)*q^31 + (14*t^7 + 48*t^6 + 39*t^5 + 12*t^4 + t^3)*q^30 + (10*t^7 + 39*t^6 + 36*t^5 + 11*t^4 + t^3)*q^29 + (6*t^7 + 33*t^6 + 32*t^5 + 11*t^4 + t^3)*q^28 + (4*t^7 + 26*t^6 + 29*t^5 + 10*t^4 + t^3)*q^27 + (2*t^7 + 22*t^6 + 26*t^5 + 10*t^4 + t^3)*q^26 + (t^7 + 16*t^6 + 23*t^5 + 9*t^4 + t^3)*q^25 + (13*t^6 + 20*t^5 + 9*t^4 + t^3)*q^24 + (9*t^6 + 18*t^5 + 8*t^4 + t^3)*q^23 + (7*t^6 + 15*t^5 + 8*t^4 + t^3)*q^22 + (4*t^6 + 13*t^5 + 7*t^4 + t^3)*q^21 + (3*t^6 + 11*t^5 + 7*t^4 + t^3)*q^20 + (t^6 + 9*t^5 + 6*t^4 + t^3)*q^19 + (t^6 + 7*t^5 + 6*t^4 + t^3)*q^18 + (6*t^5 + 5*t^4 + t^3)*q^17 + (4*t^5 + 5*t^4 + t^3)*q^16 + (3*t^5 + 4*t^4 + t^3)*q^15 + (2*t^5 + 4*t^4 + t^3)*q^14 + (t^5 + 3*t^4 + t^3)*q^13 + (3*t^4 + t^3)*q^12 + (2*t^4 + t^3)*q^11 + (2*t^4 + t^3)*q^10 + (t^4 + t^3)*q^9 + q^7*t^3 + (t^4 + t^3)*q^8 + q^6*t^3 + q^5*t^3 + q^2*t^2"
      ]
     },
     "execution_count": 10,
     "metadata": {},
     "output_type": "execute_result"
    }
   ],
   "source": [
    "series_t_q(list_of_list_of_partition_ends(w, [1, 1, 1], True))"
   ]
  }
 ],
 "metadata": {
  "kernelspec": {
   "display_name": "SageMath 9.5",
   "language": "sage",
   "name": "sagemath"
  },
  "language_info": {
   "codemirror_mode": {
    "name": "ipython",
    "version": 3
   },
   "file_extension": ".py",
   "mimetype": "text/x-python",
   "name": "python",
   "nbconvert_exporter": "python",
   "pygments_lexer": "ipython3",
   "version": "3.10.12"
  }
 },
 "nbformat": 4,
 "nbformat_minor": 5
}
