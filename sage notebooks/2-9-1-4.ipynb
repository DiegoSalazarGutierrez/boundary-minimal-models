{
 "cells": [
  {
   "cell_type": "code",
   "execution_count": 1,
   "id": "65e90209-44ce-4e0c-90ae-9b293c6eac2d",
   "metadata": {
    "tags": []
   },
   "outputs": [],
   "source": [
    "var('t q')\n",
    "\n",
    "def L_partition_vector2(partition, vector):\n",
    "    for i in range(len(partition)):\n",
    "        vector = d[-partition[len(partition) - i - 1]]*vector\n",
    "    return vector\n",
    "\n",
    "def my_coefficient(partition, vector):\n",
    "    return vector.monomial_coefficients().get(tuple(-k for k in partition), 0)\n",
    "\n",
    "def series_t_q(list_of_list_of_partition):\n",
    "    series = 0\n",
    "    for i in range(len(list_of_list_of_partition)):\n",
    "        series_t = 0\n",
    "        for j in range(len(list_of_list_of_partition[i])):\n",
    "            series_t = series_t + t^len(list_of_list_of_partition[i][j])\n",
    "        series = series + series_t*q^i\n",
    "    return series\n",
    "\n",
    "def partition_ends(partition, tail, is_greater):\n",
    "    if len(partition) < len(tail) - 1:\n",
    "        return False\n",
    "    partition2 = partition[len(partition) - len(tail) + 1: len(partition)]\n",
    "    if partition2 != tail[1:]:\n",
    "        return False\n",
    "    if is_greater:\n",
    "        if partition == partition2:\n",
    "            return True\n",
    "        if partition[len(partition) - len(tail)] > tail[0]:\n",
    "            return True\n",
    "    else:\n",
    "        if partition == partition2:\n",
    "            return False\n",
    "        if partition[len(partition) - len(tail)] == tail[0]:\n",
    "            return True\n",
    "    return False\n",
    "\n",
    "def list_of_list_of_partition_ends(list_of_list_of_partition, tail, is_greater):\n",
    "    return [[partition\n",
    "             for partition in list_of_partition if partition_ends(partition, tail, is_greater)]\n",
    "            for list_of_partition in list_of_list_of_partition]\n",
    "\n",
    "def my_order(partition):\n",
    "    polynomial = Partition(partition).to_exp(sum(partition))\n",
    "    polynomial = [-k for k in polynomial]\n",
    "    polynomial.reverse()\n",
    "    return ((len(partition), polynomial)) \n",
    "\n",
    "def ordered_partitions(N):\n",
    "    if N <= 0:\n",
    "        return [[]]\n",
    "    list_of_partition = list(Partitions(N))\n",
    "    list_of_partition.sort(key = my_order, reverse = True)\n",
    "    return list_of_partition\n",
    "\n",
    "def find_singular_vector_at_weight(weight):\n",
    "    list_of_partition = ordered_partitions(weight)\n",
    "    list_of_partition.reverse()\n",
    "    list_of_partition2 = ordered_partitions(weight - 1)\n",
    "    list_of_partition2.reverse() \n",
    "    list_of_partition3 = ordered_partitions(weight - 2)\n",
    "    list_of_partition3.reverse()\n",
    "    matrix_1 = matrix({(i, j): my_coefficient(list_of_partition2[i], d[1]*L_partition_vector2(list_of_partition[j], v)) for j in range(len(list_of_partition)) for i in range(len(list_of_partition2))}, sparse = False)\n",
    "    matrix_2 = matrix({(i, j): my_coefficient(list_of_partition3[i], d[2]*L_partition_vector2(list_of_partition[j], v)) for j in range(len(list_of_partition)) for i in range(len(list_of_partition3))}, sparse = False)\n",
    "    matrix_1 = matrix_1.stack(matrix_2)\n",
    "    matrix_1 = matrix_1.rref()\n",
    "    vector = [-matrix_1[k, len(list_of_partition)-1] for k in range(len(list_of_partition)-1)]\n",
    "    vector_list = list(reversed(vector + [1]))\n",
    "    denominators = [value.denominator() for value in vector_list]\n",
    "    common_denominator = LCM(denominators)\n",
    "    vector_list = [value*common_denominator for value in vector_list]\n",
    "    list_of_partition.reverse()\n",
    "    vector2 = {tuple(list_of_partition[i]): vector_list[i] for i in range(len(list_of_partition))}\n",
    "    return vector2\n",
    "\n",
    "def find_singular_vectors():\n",
    "    return (find_singular_vector_at_weight(m*n), find_singular_vector_at_weight((pp - m)*(qq - n)))\n",
    "\n",
    "def vector_sum(vector1, vector2):\n",
    "    return {partition: vector1.get(partition, 0) + vector2.get(partition, 0)\n",
    "            for partition in set(vector1)|set(vector2)}\n",
    "\n",
    "def vector_simplify0(partition):\n",
    "    for i in range(len(partition) - 1):\n",
    "        if partition[i] < partition[i + 1]:\n",
    "            return {partition[0: i] + (partition[i] + partition[i + 1],)\n",
    "                    + partition[i + 2: len(partition)]: partition[i + 1] - partition[i],\n",
    "                    partition[0: i] + (partition[i + 1],) + (partition[i],)\n",
    "                    + partition[i + 2: len(partition)]: 1}\n",
    "    return {partition: 1}\n",
    "\n",
    "def vector_simplify(vector):\n",
    "    vector2 = {}\n",
    "    for partition in set(vector):\n",
    "        vector3 = vector_simplify0(partition)\n",
    "        vector2 = vector_sum(vector2, {partition2: vector3[partition2]*vector[partition]\n",
    "                                       for partition2 in set(vector3)})\n",
    "    if vector2 == vector:\n",
    "        return vector2\n",
    "    return vector_simplify(vector2)\n",
    "\n",
    "def L_partition_vector(partition, vector):\n",
    "    return vector_simplify(\n",
    "        {partition + partition2: vector[partition2] for partition2 in set(vector)})\n",
    "\n",
    "def matrix_UVir_m1_m2(N):\n",
    "    singular_vectors = find_singular_vectors()\n",
    "    m1 = singular_vectors[0]\n",
    "    m2 = singular_vectors[1]\n",
    "    list_of_partition = ordered_partitions(N)\n",
    "    list_of_partition2 = ordered_partitions(N - m*n)\n",
    "    list_of_partition3 = ordered_partitions(N - (pp - m)*(qq - n))\n",
    "    list_of_vector_m1 = [L_partition_vector(tuple(list_of_partition2[i]), m1)\n",
    "                         for i in range(len(list_of_partition2))]\n",
    "    list_of_vector_m2 = [L_partition_vector(tuple(list_of_partition3[i]), m2)\n",
    "                         for i in range(len(list_of_partition3))]\n",
    "    matrix_m1 = matrix({(i, j): list_of_vector_m1[i].get(tuple(list_of_partition[j]), 0)\n",
    "                        for j in range(len(list_of_partition))\n",
    "                        for i in range(len(list_of_partition2))}, sparse = False)\n",
    "    matrix_m2 = matrix({(i, j): list_of_vector_m2[i].get(tuple(list_of_partition[j]), 0)\n",
    "                        for j in range(len(list_of_partition))\n",
    "                        for i in range(len(list_of_partition3))}, sparse = False)\n",
    "    matrix_m1 = matrix_m1.stack(matrix_m2)\n",
    "    matrix_m1 = matrix_m1.rref()\n",
    "    return matrix_m1\n",
    "\n",
    "def pivots_up_to(N):\n",
    "    list_of_list_of_partition = []\n",
    "    for i in range(N + 1):\n",
    "        list_of_partition = ordered_partitions(i)\n",
    "        list_of_list_of_partition.append(\n",
    "            [list_of_partition[j] for j in matrix_UVir_m1_m2(i).pivots()])\n",
    "    return list_of_list_of_partition\n",
    "\n",
    "def basis_up_to(N):\n",
    "    list_of_list_of_partition = []\n",
    "    pivots = pivots_up_to(N)\n",
    "    for i in range(N + 1):\n",
    "        list_of_partition = ordered_partitions(i)\n",
    "        list_of_list_of_partition.append(\n",
    "            [partition for partition in list_of_partition if partition not in pivots[i]])\n",
    "    return list_of_list_of_partition\n",
    "\n",
    "def is_subpartition(partition, partition2):\n",
    "    if len(partition) < len(partition2):\n",
    "        return False\n",
    "    for i in range(len(partition) - len(partition2) + 1):\n",
    "        if partition[i: i + len(partition2)] == partition2:\n",
    "            return True\n",
    "    return False\n",
    "\n",
    "def partition_contains_any_of_list(partition, list_of_partition):\n",
    "    for partition2 in list_of_partition:\n",
    "        if is_subpartition(partition, partition2):\n",
    "            return True\n",
    "    return False\n",
    "\n",
    "def partition_contains_any_of_R(partition, s, list_of_partition):\n",
    "    if partition == []:\n",
    "        return False\n",
    "    if partition_contains_any_of_list(partition, list_of_partition):\n",
    "        return True\n",
    "    if len(partition) < s:\n",
    "        return False\n",
    "    for i in range(len(partition) - s + 1):\n",
    "        if partition[i] - partition[i + s - 1] < 2:\n",
    "            return True\n",
    "    return False\n",
    "\n",
    "def basis_up_tov2(N, s, list_of_partition):\n",
    "    list_of_list_of_partition = []\n",
    "    for i in range(N + 1):\n",
    "        list_of_partition2 = ordered_partitions(i)\n",
    "        list_of_list_of_partition.append(\n",
    "            [partition for partition in list_of_partition2\n",
    "             if not partition_contains_any_of_R(partition, s, list_of_partition)])\n",
    "    return list_of_list_of_partition"
   ]
  },
  {
   "cell_type": "code",
   "execution_count": 2,
   "id": "fc664383-6018-4e7f-bffc-a9f3edbd45b5",
   "metadata": {},
   "outputs": [
    {
     "data": {
      "text/plain": [
       "[[1, 1, 1, 1, 1, 1],\n",
       " [2, 1, 1, 1, 1],\n",
       " [2, 2, 1, 1],\n",
       " [3, 1, 1, 1],\n",
       " [2, 2, 2],\n",
       " [3, 2, 1],\n",
       " [4, 1, 1],\n",
       " [3, 3],\n",
       " [4, 2],\n",
       " [5, 1],\n",
       " [6]]"
      ]
     },
     "execution_count": 2,
     "metadata": {},
     "output_type": "execute_result"
    }
   ],
   "source": [
    "ordered_partitions(6)"
   ]
  },
  {
   "cell_type": "code",
   "execution_count": 3,
   "id": "f4c2e0f5-fd1c-4642-9d81-ad59818dc9da",
   "metadata": {},
   "outputs": [],
   "source": [
    "Vir = lie_algebras.VirasoroAlgebra(QQ)\n",
    "pp = 2\n",
    "ss = 4\n",
    "m = 1\n",
    "n = 4\n",
    "NN = 20\n",
    "qq = 2*ss + 1\n",
    "c = 1 - 6*(pp - qq)^2/(pp*qq)\n",
    "h = ((n*pp - m*qq)^2 - (pp - qq)^2)/(4*pp*qq)\n",
    "M = Vir.verma_module(c, h)\n",
    "d = Vir.basis()\n",
    "v = M.highest_weight_vector()"
   ]
  },
  {
   "cell_type": "code",
   "execution_count": 4,
   "id": "aacd16d7-ef20-4bfe-ac95-b8919c704064",
   "metadata": {},
   "outputs": [
    {
     "data": {
      "text/plain": [
       "(-46/3, -2/3)"
      ]
     },
     "execution_count": 4,
     "metadata": {},
     "output_type": "execute_result"
    }
   ],
   "source": [
    "(c, h)"
   ]
  },
  {
   "cell_type": "code",
   "execution_count": 5,
   "id": "e502af94-9f6e-4f9c-91d7-3d12359d8365",
   "metadata": {},
   "outputs": [
    {
     "name": "stdout",
     "output_type": "stream",
     "text": [
      "CPU times: user 28.4 s, sys: 73.9 ms, total: 28.5 s\n",
      "Wall time: 30.9 s\n"
     ]
    },
    {
     "data": {
      "text/plain": [
       "True"
      ]
     },
     "execution_count": 5,
     "metadata": {},
     "output_type": "execute_result"
    }
   ],
   "source": [
    "%time basis_up_to(NN) == basis_up_tov2(NN, ss, [[1, 1, 1, 1]])"
   ]
  },
  {
   "cell_type": "code",
   "execution_count": 6,
   "id": "7e85efad-fc06-46fa-bfc8-80897f45c999",
   "metadata": {},
   "outputs": [
    {
     "name": "stdout",
     "output_type": "stream",
     "text": [
      "CPU times: user 3.77 s, sys: 92.4 ms, total: 3.87 s\n",
      "Wall time: 4.19 s\n"
     ]
    }
   ],
   "source": [
    "%time w = basis_up_tov2(40, ss, [[1, 1, 1, 1]])"
   ]
  },
  {
   "cell_type": "code",
   "execution_count": 7,
   "id": "d5fd85a0-1799-41a3-a6cb-340a86019348",
   "metadata": {},
   "outputs": [
    {
     "data": {
      "text/plain": [
       "(45*t^10 + 361*t^9 + 1072*t^8 + 1680*t^7 + 1655*t^6 + 1080*t^5 + 477*t^4 + 133*t^3 + 20*t^2 + t)*q^40 + (27*t^10 + 272*t^9 + 865*t^8 + 1433*t^7 + 1456*t^6 + 980*t^5 + 440*t^4 + 127*t^3 + 19*t^2 + t)*q^39 + (17*t^10 + 198*t^9 + 699*t^8 + 1212*t^7 + 1283*t^6 + 885*t^5 + 410*t^4 + 120*t^3 + 19*t^2 + t)*q^38 + (9*t^10 + 144*t^9 + 553*t^8 + 1023*t^7 + 1119*t^6 + 799*t^5 + 377*t^4 + 114*t^3 + 18*t^2 + t)*q^37 + (5*t^10 + 101*t^9 + 439*t^8 + 854*t^7 + 980*t^6 + 717*t^5 + 350*t^4 + 108*t^3 + 18*t^2 + t)*q^36 + (2*t^10 + 70*t^9 + 339*t^8 + 712*t^7 + 846*t^6 + 644*t^5 + 320*t^4 + 102*t^3 + 17*t^2 + t)*q^35 + (t^10 + 46*t^9 + 263*t^8 + 586*t^7 + 734*t^6 + 574*t^5 + 296*t^4 + 96*t^3 + 17*t^2 + t)*q^34 + (31*t^9 + 197*t^8 + 481*t^7 + 628*t^6 + 512*t^5 + 269*t^4 + 91*t^3 + 16*t^2 + t)*q^33 + (18*t^9 + 149*t^8 + 389*t^7 + 539*t^6 + 453*t^5 + 248*t^4 + 85*t^3 + 16*t^2 + t)*q^32 + (11*t^9 + 107*t^8 + 314*t^7 + 455*t^6 + 401*t^5 + 224*t^4 + 80*t^3 + 15*t^2 + t)*q^31 + (6*t^9 + 78*t^8 + 248*t^7 + 387*t^6 + 352*t^5 + 205*t^4 + 75*t^3 + 15*t^2 + t)*q^30 + (3*t^9 + 53*t^8 + 196*t^7 + 321*t^6 + 309*t^5 + 184*t^4 + 70*t^3 + 14*t^2 + t)*q^29 + (t^9 + 37*t^8 + 151*t^7 + 269*t^6 + 268*t^5 + 168*t^4 + 65*t^3 + 14*t^2 + t)*q^28 + (t^9 + 23*t^8 + 116*t^7 + 220*t^6 + 233*t^5 + 149*t^4 + 61*t^3 + 13*t^2 + t)*q^27 + (15*t^8 + 86*t^7 + 181*t^6 + 200*t^5 + 135*t^4 + 56*t^3 + 13*t^2 + t)*q^26 + (8*t^8 + 64*t^7 + 144*t^6 + 172*t^5 + 119*t^4 + 52*t^3 + 12*t^2 + t)*q^25 + (5*t^8 + 45*t^7 + 117*t^6 + 145*t^5 + 107*t^4 + 48*t^3 + 12*t^2 + t)*q^24 + (2*t^8 + 32*t^7 + 90*t^6 + 123*t^5 + 93*t^4 + 44*t^3 + 11*t^2 + t)*q^23 + (t^8 + 21*t^7 + 71*t^6 + 102*t^5 + 83*t^4 + 40*t^3 + 11*t^2 + t)*q^22 + (14*t^7 + 53*t^6 + 85*t^5 + 71*t^4 + 37*t^3 + 10*t^2 + t)*q^21 + (8*t^7 + 40*t^6 + 69*t^5 + 63*t^4 + 33*t^3 + 10*t^2 + t)*q^20 + (5*t^7 + 28*t^6 + 56*t^5 + 53*t^4 + 30*t^3 + 9*t^2 + t)*q^19 + (2*t^7 + 21*t^6 + 44*t^5 + 46*t^4 + 27*t^3 + 9*t^2 + t)*q^18 + (t^7 + 13*t^6 + 35*t^5 + 38*t^4 + 24*t^3 + 8*t^2 + t)*q^17 + (9*t^6 + 26*t^5 + 33*t^4 + 21*t^3 + 8*t^2 + t)*q^16 + (5*t^6 + 20*t^5 + 26*t^4 + 19*t^3 + 7*t^2 + t)*q^15 + (3*t^6 + 14*t^5 + 22*t^4 + 16*t^3 + 7*t^2 + t)*q^14 + (t^6 + 10*t^5 + 17*t^4 + 14*t^3 + 6*t^2 + t)*q^13 + (t^6 + 6*t^5 + 14*t^4 + 12*t^3 + 6*t^2 + t)*q^12 + (4*t^5 + 10*t^4 + 10*t^3 + 5*t^2 + t)*q^11 + (2*t^5 + 8*t^4 + 8*t^3 + 5*t^2 + t)*q^10 + (t^5 + 5*t^4 + 7*t^3 + 4*t^2 + t)*q^9 + (4*t^4 + 5*t^3 + 4*t^2 + t)*q^8 + (2*t^4 + 4*t^3 + 3*t^2 + t)*q^7 + (t^4 + 3*t^3 + 3*t^2 + t)*q^6 + (2*t^3 + 2*t^2 + t)*q^5 + (t^3 + 2*t^2 + t)*q^4 + (t^3 + t^2 + t)*q^3 + (t^2 + t)*q^2 + q*t + 1"
      ]
     },
     "execution_count": 7,
     "metadata": {},
     "output_type": "execute_result"
    }
   ],
   "source": [
    "series_t_q(w)"
   ]
  },
  {
   "cell_type": "code",
   "execution_count": 8,
   "id": "6bc84785-c4fa-451a-888e-7814dda53fd8",
   "metadata": {},
   "outputs": [
    {
     "data": {
      "text/plain": [
       "(11*t^9 + 149*t^8 + 481*t^7 + 734*t^6 + 644*t^5 + 350*t^4 + 114*t^3 + 19*t^2 + t)*q^40 + (6*t^9 + 107*t^8 + 389*t^7 + 628*t^6 + 574*t^5 + 320*t^4 + 108*t^3 + 18*t^2 + t)*q^39 + (3*t^9 + 78*t^8 + 314*t^7 + 539*t^6 + 512*t^5 + 296*t^4 + 102*t^3 + 18*t^2 + t)*q^38 + (t^9 + 53*t^8 + 248*t^7 + 455*t^6 + 453*t^5 + 269*t^4 + 96*t^3 + 17*t^2 + t)*q^37 + (t^9 + 37*t^8 + 196*t^7 + 387*t^6 + 401*t^5 + 248*t^4 + 91*t^3 + 17*t^2 + t)*q^36 + (23*t^8 + 151*t^7 + 321*t^6 + 352*t^5 + 224*t^4 + 85*t^3 + 16*t^2 + t)*q^35 + (15*t^8 + 116*t^7 + 269*t^6 + 309*t^5 + 205*t^4 + 80*t^3 + 16*t^2 + t)*q^34 + (8*t^8 + 86*t^7 + 220*t^6 + 268*t^5 + 184*t^4 + 75*t^3 + 15*t^2 + t)*q^33 + (5*t^8 + 64*t^7 + 181*t^6 + 233*t^5 + 168*t^4 + 70*t^3 + 15*t^2 + t)*q^32 + (2*t^8 + 45*t^7 + 144*t^6 + 200*t^5 + 149*t^4 + 65*t^3 + 14*t^2 + t)*q^31 + (t^8 + 32*t^7 + 117*t^6 + 172*t^5 + 135*t^4 + 61*t^3 + 14*t^2 + t)*q^30 + (21*t^7 + 90*t^6 + 145*t^5 + 119*t^4 + 56*t^3 + 13*t^2 + t)*q^29 + (14*t^7 + 71*t^6 + 123*t^5 + 107*t^4 + 52*t^3 + 13*t^2 + t)*q^28 + (8*t^7 + 53*t^6 + 102*t^5 + 93*t^4 + 48*t^3 + 12*t^2 + t)*q^27 + (5*t^7 + 40*t^6 + 85*t^5 + 83*t^4 + 44*t^3 + 12*t^2 + t)*q^26 + (2*t^7 + 28*t^6 + 69*t^5 + 71*t^4 + 40*t^3 + 11*t^2 + t)*q^25 + (t^7 + 21*t^6 + 56*t^5 + 63*t^4 + 37*t^3 + 11*t^2 + t)*q^24 + (13*t^6 + 44*t^5 + 53*t^4 + 33*t^3 + 10*t^2 + t)*q^23 + (9*t^6 + 35*t^5 + 46*t^4 + 30*t^3 + 10*t^2 + t)*q^22 + (5*t^6 + 26*t^5 + 38*t^4 + 27*t^3 + 9*t^2 + t)*q^21 + (3*t^6 + 20*t^5 + 33*t^4 + 24*t^3 + 9*t^2 + t)*q^20 + (t^6 + 14*t^5 + 26*t^4 + 21*t^3 + 8*t^2 + t)*q^19 + (t^6 + 10*t^5 + 22*t^4 + 19*t^3 + 8*t^2 + t)*q^18 + (6*t^5 + 17*t^4 + 16*t^3 + 7*t^2 + t)*q^17 + (4*t^5 + 14*t^4 + 14*t^3 + 7*t^2 + t)*q^16 + (2*t^5 + 10*t^4 + 12*t^3 + 6*t^2 + t)*q^15 + (t^5 + 8*t^4 + 10*t^3 + 6*t^2 + t)*q^14 + (5*t^4 + 8*t^3 + 5*t^2 + t)*q^13 + (4*t^4 + 7*t^3 + 5*t^2 + t)*q^12 + (2*t^4 + 5*t^3 + 4*t^2 + t)*q^11 + (t^4 + 4*t^3 + 4*t^2 + t)*q^10 + (3*t^3 + 3*t^2 + t)*q^9 + (2*t^3 + 3*t^2 + t)*q^8 + (t^3 + 2*t^2 + t)*q^7 + (t^3 + 2*t^2 + t)*q^6 + (t^2 + t)*q^5 + (t^2 + t)*q^4 + q^3*t + q^2*t + 1"
      ]
     },
     "execution_count": 8,
     "metadata": {},
     "output_type": "execute_result"
    }
   ],
   "source": [
    "series_t_q(list_of_list_of_partition_ends(w, [1], True))"
   ]
  },
  {
   "cell_type": "code",
   "execution_count": 9,
   "id": "386f88bb-1a16-45d5-8d81-540d8afa2f76",
   "metadata": {},
   "outputs": [
    {
     "data": {
      "text/plain": [
       "(t^10 + 63*t^9 + 318*t^8 + 580*t^7 + 561*t^6 + 319*t^5 + 108*t^4 + 18*t^3 + t^2)*q^40 + (43*t^9 + 251*t^8 + 495*t^7 + 499*t^6 + 295*t^5 + 102*t^4 + 18*t^3 + t^2)*q^39 + (27*t^9 + 195*t^8 + 415*t^7 + 441*t^6 + 268*t^5 + 96*t^4 + 17*t^3 + t^2)*q^38 + (17*t^9 + 150*t^8 + 350*t^7 + 389*t^6 + 247*t^5 + 91*t^4 + 17*t^3 + t^2)*q^37 + (9*t^9 + 113*t^8 + 288*t^7 + 341*t^6 + 223*t^5 + 85*t^4 + 16*t^3 + t^2)*q^36 + (5*t^9 + 83*t^8 + 239*t^7 + 298*t^6 + 204*t^5 + 80*t^4 + 16*t^3 + t^2)*q^35 + (2*t^9 + 60*t^8 + 193*t^7 + 258*t^6 + 183*t^5 + 75*t^4 + 15*t^3 + t^2)*q^34 + (t^9 + 42*t^8 + 157*t^7 + 223*t^6 + 167*t^5 + 70*t^4 + 15*t^3 + t^2)*q^33 + (28*t^8 + 123*t^7 + 191*t^6 + 148*t^5 + 65*t^4 + 14*t^3 + t^2)*q^32 + (18*t^8 + 98*t^7 + 163*t^6 + 134*t^5 + 61*t^4 + 14*t^3 + t^2)*q^31 + (11*t^8 + 74*t^7 + 137*t^6 + 118*t^5 + 56*t^4 + 13*t^3 + t^2)*q^30 + (6*t^8 + 57*t^7 + 115*t^6 + 106*t^5 + 52*t^4 + 13*t^3 + t^2)*q^29 + (3*t^8 + 41*t^7 + 95*t^6 + 92*t^5 + 48*t^4 + 12*t^3 + t^2)*q^28 + (t^8 + 30*t^7 + 78*t^6 + 82*t^5 + 44*t^4 + 12*t^3 + t^2)*q^27 + (20*t^7 + 63*t^6 + 70*t^5 + 40*t^4 + 11*t^3 + t^2)*q^26 + (14*t^7 + 50*t^6 + 62*t^5 + 37*t^4 + 11*t^3 + t^2)*q^25 + (8*t^7 + 39*t^6 + 52*t^5 + 33*t^4 + 10*t^3 + t^2)*q^24 + (5*t^7 + 30*t^6 + 45*t^5 + 30*t^4 + 10*t^3 + t^2)*q^23 + (2*t^7 + 22*t^6 + 37*t^5 + 27*t^4 + 9*t^3 + t^2)*q^22 + (t^7 + 16*t^6 + 32*t^5 + 24*t^4 + 9*t^3 + t^2)*q^21 + (11*t^6 + 25*t^5 + 21*t^4 + 8*t^3 + t^2)*q^20 + (7*t^6 + 21*t^5 + 19*t^4 + 8*t^3 + t^2)*q^19 + (4*t^6 + 16*t^5 + 16*t^4 + 7*t^3 + t^2)*q^18 + (2*t^6 + 13*t^5 + 14*t^4 + 7*t^3 + t^2)*q^17 + (t^6 + 9*t^5 + 12*t^4 + 6*t^3 + t^2)*q^16 + (7*t^5 + 10*t^4 + 6*t^3 + t^2)*q^15 + (4*t^5 + 8*t^4 + 5*t^3 + t^2)*q^14 + (3*t^5 + 7*t^4 + 5*t^3 + t^2)*q^13 + (t^5 + 5*t^4 + 4*t^3 + t^2)*q^12 + (4*t^4 + 4*t^3 + t^2)*q^11 + (3*t^4 + 3*t^3 + t^2)*q^10 + (2*t^4 + 3*t^3 + t^2)*q^9 + (t^4 + 2*t^3 + t^2)*q^8 + (2*t^3 + t^2)*q^7 + (t^3 + t^2)*q^6 + (t^3 + t^2)*q^5 + q^4*t^2 + q^3*t^2 + q*t"
      ]
     },
     "execution_count": 9,
     "metadata": {},
     "output_type": "execute_result"
    }
   ],
   "source": [
    "series_t_q(list_of_list_of_partition_ends(w, [1, 1], True))"
   ]
  },
  {
   "cell_type": "code",
   "execution_count": 10,
   "id": "e61e1491-e07f-414e-b980-62dc2ffefc05",
   "metadata": {},
   "outputs": [
    {
     "data": {
      "text/plain": [
       "(12*t^10 + 143*t^9 + 372*t^8 + 435*t^7 + 280*t^6 + 101*t^5 + 18*t^4 + t^3)*q^40 + (6*t^10 + 106*t^9 + 307*t^8 + 381*t^7 + 254*t^6 + 95*t^5 + 17*t^4 + t^3)*q^39 + (3*t^10 + 78*t^9 + 254*t^8 + 334*t^7 + 233*t^6 + 90*t^5 + 17*t^4 + t^3)*q^38 + (t^10 + 55*t^9 + 205*t^8 + 290*t^7 + 210*t^6 + 84*t^5 + 16*t^4 + t^3)*q^37 + (38*t^9 + 166*t^8 + 251*t^7 + 191*t^6 + 79*t^5 + 16*t^4 + t^3)*q^36 + (25*t^9 + 131*t^8 + 215*t^7 + 171*t^6 + 74*t^5 + 15*t^4 + t^3)*q^35 + (16*t^9 + 103*t^8 + 184*t^7 + 155*t^6 + 69*t^5 + 15*t^4 + t^3)*q^34 + (9*t^9 + 78*t^8 + 155*t^7 + 137*t^6 + 64*t^5 + 14*t^4 + t^3)*q^33 + (5*t^9 + 60*t^8 + 131*t^7 + 123*t^6 + 60*t^5 + 14*t^4 + t^3)*q^32 + (2*t^9 + 43*t^8 + 108*t^7 + 108*t^6 + 55*t^5 + 13*t^4 + t^3)*q^31 + (t^9 + 31*t^8 + 89*t^7 + 96*t^6 + 51*t^5 + 13*t^4 + t^3)*q^30 + (21*t^8 + 72*t^7 + 83*t^6 + 47*t^5 + 12*t^4 + t^3)*q^29 + (14*t^8 + 58*t^7 + 73*t^6 + 43*t^5 + 12*t^4 + t^3)*q^28 + (8*t^8 + 45*t^7 + 62*t^6 + 39*t^5 + 11*t^4 + t^3)*q^27 + (5*t^8 + 35*t^7 + 54*t^6 + 36*t^5 + 11*t^4 + t^3)*q^26 + (2*t^8 + 26*t^7 + 45*t^6 + 32*t^5 + 10*t^4 + t^3)*q^25 + (t^8 + 19*t^7 + 38*t^6 + 29*t^5 + 10*t^4 + t^3)*q^24 + (13*t^7 + 31*t^6 + 26*t^5 + 9*t^4 + t^3)*q^23 + (9*t^7 + 26*t^6 + 23*t^5 + 9*t^4 + t^3)*q^22 + (5*t^7 + 20*t^6 + 20*t^5 + 8*t^4 + t^3)*q^21 + (3*t^7 + 16*t^6 + 18*t^5 + 8*t^4 + t^3)*q^20 + (t^7 + 12*t^6 + 15*t^5 + 7*t^4 + t^3)*q^19 + (9*t^6 + 13*t^5 + 7*t^4 + t^3)*q^18 + (6*t^6 + 11*t^5 + 6*t^4 + t^3)*q^17 + (4*t^6 + 9*t^5 + 6*t^4 + t^3)*q^16 + (2*t^6 + 7*t^5 + 5*t^4 + t^3)*q^15 + (t^6 + 6*t^5 + 5*t^4 + t^3)*q^14 + (4*t^5 + 4*t^4 + t^3)*q^13 + (3*t^5 + 4*t^4 + t^3)*q^12 + (2*t^5 + 3*t^4 + t^3)*q^11 + (t^5 + 3*t^4 + t^3)*q^10 + (2*t^4 + t^3)*q^9 + (2*t^4 + t^3)*q^8 + q^6*t^3 + (t^4 + t^3)*q^7 + q^5*t^3 + q^4*t^3 + q^2*t^2"
      ]
     },
     "execution_count": 10,
     "metadata": {},
     "output_type": "execute_result"
    }
   ],
   "source": [
    "series_t_q(list_of_list_of_partition_ends(w, [1, 1, 1], True))"
   ]
  },
  {
   "cell_type": "code",
   "execution_count": 11,
   "id": "a923eb61-0f9a-4801-a015-4f223927c58e",
   "metadata": {},
   "outputs": [
    {
     "data": {
      "text/plain": [
       "(32*t^10 + 144*t^9 + 233*t^8 + 184*t^7 + 80*t^6 + 16*t^5 + t^4)*q^40 + (21*t^10 + 117*t^9 + 200*t^8 + 168*t^7 + 75*t^6 + 16*t^5 + t^4)*q^39 + (14*t^10 + 90*t^9 + 172*t^8 + 149*t^7 + 70*t^6 + 15*t^5 + t^4)*q^38 + (8*t^10 + 71*t^9 + 145*t^8 + 135*t^7 + 65*t^6 + 15*t^5 + t^4)*q^37 + (5*t^10 + 53*t^9 + 123*t^8 + 119*t^7 + 61*t^6 + 14*t^5 + t^4)*q^36 + (2*t^10 + 40*t^9 + 102*t^8 + 107*t^7 + 56*t^6 + 14*t^5 + t^4)*q^35 + (t^10 + 28*t^9 + 85*t^8 + 93*t^7 + 52*t^6 + 13*t^5 + t^4)*q^34 + (21*t^9 + 69*t^8 + 83*t^7 + 48*t^6 + 13*t^5 + t^4)*q^33 + (13*t^9 + 56*t^8 + 71*t^7 + 44*t^6 + 12*t^5 + t^4)*q^32 + (9*t^9 + 44*t^8 + 63*t^7 + 40*t^6 + 12*t^5 + t^4)*q^31 + (5*t^9 + 35*t^8 + 53*t^7 + 37*t^6 + 11*t^5 + t^4)*q^30 + (3*t^9 + 26*t^8 + 46*t^7 + 33*t^6 + 11*t^5 + t^4)*q^29 + (t^9 + 20*t^8 + 38*t^7 + 30*t^6 + 10*t^5 + t^4)*q^28 + (t^9 + 14*t^8 + 33*t^7 + 27*t^6 + 10*t^5 + t^4)*q^27 + (10*t^8 + 26*t^7 + 24*t^6 + 9*t^5 + t^4)*q^26 + (6*t^8 + 22*t^7 + 21*t^6 + 9*t^5 + t^4)*q^25 + (4*t^8 + 17*t^7 + 19*t^6 + 8*t^5 + t^4)*q^24 + (2*t^8 + 14*t^7 + 16*t^6 + 8*t^5 + t^4)*q^23 + (t^8 + 10*t^7 + 14*t^6 + 7*t^5 + t^4)*q^22 + (8*t^7 + 12*t^6 + 7*t^5 + t^4)*q^21 + (5*t^7 + 10*t^6 + 6*t^5 + t^4)*q^20 + (4*t^7 + 8*t^6 + 6*t^5 + t^4)*q^19 + (2*t^7 + 7*t^6 + 5*t^5 + t^4)*q^18 + (t^7 + 5*t^6 + 5*t^5 + t^4)*q^17 + (4*t^6 + 4*t^5 + t^4)*q^16 + (3*t^6 + 4*t^5 + t^4)*q^15 + (2*t^6 + 3*t^5 + t^4)*q^14 + (t^6 + 3*t^5 + t^4)*q^13 + (t^6 + 2*t^5 + t^4)*q^12 + (2*t^5 + t^4)*q^11 + q^8*t^4 + (t^5 + t^4)*q^10 + q^7*t^4 + (t^5 + t^4)*q^9 + q^6*t^4 + q^3*t^3"
      ]
     },
     "execution_count": 11,
     "metadata": {},
     "output_type": "execute_result"
    }
   ],
   "source": [
    "series_t_q(list_of_list_of_partition_ends(w, [1, 1, 1, 1], True))"
   ]
  }
 ],
 "metadata": {
  "kernelspec": {
   "display_name": "SageMath 9.5",
   "language": "sage",
   "name": "sagemath"
  },
  "language_info": {
   "codemirror_mode": {
    "name": "ipython",
    "version": 3
   },
   "file_extension": ".py",
   "mimetype": "text/x-python",
   "name": "python",
   "nbconvert_exporter": "python",
   "pygments_lexer": "ipython3",
   "version": "3.10.12"
  }
 },
 "nbformat": 4,
 "nbformat_minor": 5
}
